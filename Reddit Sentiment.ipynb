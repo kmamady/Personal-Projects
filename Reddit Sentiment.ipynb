{
 "cells": [
  {
   "cell_type": "code",
   "execution_count": null,
   "id": "06d758b1-6a0e-4a56-873f-c3fa32a34d51",
   "metadata": {
    "tags": []
   },
   "outputs": [],
   "source": [
    "!pip install -q requests\n",
    "\n",
    "import requests\n",
    "import json\n",
    "from IPython.display import display,HTML\n",
    "from ipywidgets import interact\n",
    "\n",
    "subreddits=['ama','aww','news','worldnews', 'politics','todayilearned','explainlikeimfive','writingprompts','upliftingnews','wholesomememes','freecompliments','happy','financialadvice','breadit']\n",
    "subreddits.sort()\n",
    "# Step 2: Write code here\n",
    "\n",
    "def getRedditStories(subreddit):\n",
    "    url = f\"https://www.reddit.com/r/{subreddit}/.json\"\n",
    "    myheaders = {'User-Agent' : 'ist256.lesson10.homework:v1.0 (by /u/makeita)'}\n",
    "    response = requests.get(url, headers = myheaders)\n",
    "    response.raise_for_status() # if you don't get a 200, then throw an error\n",
    "    data = response.json()\n",
    "    return data\n",
    "\n",
    "def extractTitles(stories):\n",
    "    titles = \"\"\n",
    "    for story in stories['data']['children']:\n",
    "        titles = titles + story['data']['title'] + \"\\n\"\n",
    "    return titles\n",
    "\n",
    "def getSentiment(titles):\n",
    "    url = 'http://text-processing.com/api/sentiment/'\n",
    "    payload = {'text': titles}\n",
    "    response_two = requests.post(url, data = payload)\n",
    "    sentiment = response_two.json()\n",
    "    return sentiment\n",
    "\n",
    "@interact(subreddit=subreddits)\n",
    "def main(subreddit):\n",
    "    stories = getRedditStories(subreddit)\n",
    "    titles = extractTitles(stories)\n",
    "    sentiment = getSentiment(titles)#lab\n",
    "    print(titles)\n",
    "    print(sentiment)\n",
    "    print(f\"Overall sentiment of subreddit {subreddit} is {sentiment['label']}\")\n"
   ]
  },
  {
   "cell_type": "code",
   "execution_count": null,
   "id": "c0997867-7966-4268-8acc-bd3a80995539",
   "metadata": {},
   "outputs": [],
   "source": []
  }
 ],
 "metadata": {
  "kernelspec": {
   "display_name": "Python 3 (ipykernel)",
   "language": "python",
   "name": "python3"
  },
  "language_info": {
   "codemirror_mode": {
    "name": "ipython",
    "version": 3
   },
   "file_extension": ".py",
   "mimetype": "text/x-python",
   "name": "python",
   "nbconvert_exporter": "python",
   "pygments_lexer": "ipython3",
   "version": "3.11.3"
  }
 },
 "nbformat": 4,
 "nbformat_minor": 5
}
